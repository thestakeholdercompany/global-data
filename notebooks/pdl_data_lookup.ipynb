{
 "cells": [
  {
   "cell_type": "code",
   "execution_count": null,
   "metadata": {},
   "outputs": [],
   "source": [
    "pip install tldextract"
   ]
  },
  {
   "cell_type": "code",
   "execution_count": 1,
   "metadata": {},
   "outputs": [],
   "source": [
    "import json\n",
    "from urllib.parse import urlparse\n",
    "import pandas as pd\n",
    "import tldextract"
   ]
  },
  {
   "cell_type": "code",
   "execution_count": 2,
   "metadata": {},
   "outputs": [],
   "source": [
    "# Define the normalization function\n",
    "def normalize_url(url):\n",
    "    if url:\n",
    "        # Remove 'http://', 'https://', and 'www.'\n",
    "        url = url.lower().replace('http://', '').replace('https://', '').replace('www.', '')\n",
    "        # Extract domain and suffix (e.g., 'example.com')\n",
    "        domain = url.split('/')[0]  # Keep only the domain part\n",
    "        return domain\n",
    "    return None"
   ]
  },
  {
   "cell_type": "code",
   "execution_count": 3,
   "metadata": {},
   "outputs": [
    {
     "data": {
      "text/plain": [
       "'fesbc.ca'"
      ]
     },
     "execution_count": 3,
     "metadata": {},
     "output_type": "execute_result"
    }
   ],
   "source": [
    "test_url = 'https://www.fesbc.ca/about-the-fesbc/'\n",
    "\n",
    "normalized_url = normalize_url(test_url)\n",
    "normalized_url"
   ]
  },
  {
   "cell_type": "code",
   "execution_count": 4,
   "metadata": {},
   "outputs": [
    {
     "data": {
      "text/plain": [
       "'fesbc.ca'"
      ]
     },
     "execution_count": 4,
     "metadata": {},
     "output_type": "execute_result"
    }
   ],
   "source": [
    "test_url_2 = 'https://www.fesbc.ca/en/'\n",
    "\n",
    "normalized_url = normalize_url(test_url_2)\n",
    "normalized_url"
   ]
  },
  {
   "cell_type": "code",
   "execution_count": 5,
   "metadata": {},
   "outputs": [],
   "source": [
    "import gzip\n",
    "import json\n",
    "from pathlib import Path\n",
    "\n",
    "import httpx\n",
    "\n",
    "http_client = httpx.AsyncClient(\n",
    "    timeout=httpx.Timeout(read=60, write=60, connect=60, pool=60),\n",
    ")"
   ]
  },
  {
   "cell_type": "code",
   "execution_count": 6,
   "metadata": {},
   "outputs": [],
   "source": [
    "wip_dir = Path.home() / \"Downloads\"\n",
    "pth_in_dump = wip_dir / \"free_company_dataset.json.zip\""
   ]
  },
  {
   "cell_type": "code",
   "execution_count": 7,
   "metadata": {},
   "outputs": [],
   "source": [
    "def get_df_in_raw(pth_in_dump: Path) -> pd.DataFrame:\n",
    "    \"\"\"Get the raw dataframe from the dump file\"\"\"\n",
    "    cols = [\"id\", \"website\", \"name\", \"founded\", \"size\", \"locality\", \"region\", \"country\", \"industry\", \"linkedin_url\"]\n",
    "    lst = []\n",
    "    with gzip.open(pth_in_dump, \"rt\") as fp:\n",
    "        for line in fp:\n",
    "            dic = json.loads(line)\n",
    "            lst.append(tuple(dic[key] for key in cols))\n",
    "    return pd.DataFrame(lst, columns=cols)\n",
    "\n",
    "\n",
    "async def download_to_file(url: str, pth: Path, http_client: httpx.AsyncClient):\n",
    "    with pth.open(\"wb\") as fp:\n",
    "        async with http_client.stream(\"GET\", url) as resp:\n",
    "            async for chunk in resp.aiter_bytes():\n",
    "                fp.write(chunk)"
   ]
  },
  {
   "cell_type": "code",
   "execution_count": 8,
   "metadata": {},
   "outputs": [],
   "source": [
    "df_in_raw = get_df_in_raw(pth_in_dump)"
   ]
  },
  {
   "cell_type": "code",
   "execution_count": 16,
   "metadata": {},
   "outputs": [],
   "source": [
    "# Read Atium CSV file into DataFrame\n",
    "csv_file_path = wip_dir / 'companies.csv'\n",
    "atium_df = pd.read_csv(csv_file_path)"
   ]
  },
  {
   "cell_type": "code",
   "execution_count": 17,
   "metadata": {},
   "outputs": [
    {
     "data": {
      "text/plain": [
       "27174"
      ]
     },
     "execution_count": 17,
     "metadata": {},
     "output_type": "execute_result"
    }
   ],
   "source": [
    "len(atium_df)"
   ]
  },
  {
   "cell_type": "code",
   "execution_count": 19,
   "metadata": {},
   "outputs": [],
   "source": [
    "# Step 1: Exclude rows in atium_df with URLs containing sub-sections (except /en/)\n",
    "# Allow URLs with trailing / but no additional sub-sections\n",
    "atium_df = atium_df[~atium_df['url'].str.contains(r'\\/[^\\/]+\\/', regex=True) | \n",
    "                  atium_df['url'].str.contains(r'\\/en\\/', regex=True) |\n",
    "                  atium_df['url'].str.endswith('/')]"
   ]
  },
  {
   "cell_type": "code",
   "execution_count": 20,
   "metadata": {},
   "outputs": [
    {
     "data": {
      "text/plain": [
       "23529"
      ]
     },
     "execution_count": 20,
     "metadata": {},
     "output_type": "execute_result"
    }
   ],
   "source": [
    "len(atium_df)"
   ]
  },
  {
   "cell_type": "code",
   "execution_count": 21,
   "metadata": {},
   "outputs": [
    {
     "data": {
      "text/html": [
       "<div>\n",
       "<style scoped>\n",
       "    .dataframe tbody tr th:only-of-type {\n",
       "        vertical-align: middle;\n",
       "    }\n",
       "\n",
       "    .dataframe tbody tr th {\n",
       "        vertical-align: top;\n",
       "    }\n",
       "\n",
       "    .dataframe thead th {\n",
       "        text-align: right;\n",
       "    }\n",
       "</style>\n",
       "<table border=\"1\" class=\"dataframe\">\n",
       "  <thead>\n",
       "    <tr style=\"text-align: right;\">\n",
       "      <th></th>\n",
       "      <th>id</th>\n",
       "      <th>name</th>\n",
       "      <th>url</th>\n",
       "    </tr>\n",
       "  </thead>\n",
       "  <tbody>\n",
       "    <tr>\n",
       "      <th>0</th>\n",
       "      <td>17794c4a-0208-4817-b2fe-819297c95d3e</td>\n",
       "      <td>Sound Ventures</td>\n",
       "      <td>https://soundventures.com</td>\n",
       "    </tr>\n",
       "    <tr>\n",
       "      <th>1</th>\n",
       "      <td>62b4b5b9-af62-4e4b-a192-87aedf306476</td>\n",
       "      <td>Instituto Kabu</td>\n",
       "      <td>https://www.kabu.org.br/</td>\n",
       "    </tr>\n",
       "    <tr>\n",
       "      <th>2</th>\n",
       "      <td>8117cfd3-d47f-471f-b27c-6431d0e37cf2</td>\n",
       "      <td>Taihe Institute</td>\n",
       "      <td>http://www.taiheglobal.org/en/</td>\n",
       "    </tr>\n",
       "    <tr>\n",
       "      <th>3</th>\n",
       "      <td>15b3d733-5f9f-4832-93f7-122ca510db83</td>\n",
       "      <td>Oceaneye.ch</td>\n",
       "      <td>http://www.oceaneye.ch</td>\n",
       "    </tr>\n",
       "    <tr>\n",
       "      <th>4</th>\n",
       "      <td>0f3d9a0e-d943-4d0f-844c-2104a62382ac</td>\n",
       "      <td>Centro de Estudos Rioterra</td>\n",
       "      <td>https://rioterra.org/</td>\n",
       "    </tr>\n",
       "    <tr>\n",
       "      <th>5</th>\n",
       "      <td>3c311db2-04b7-4701-ba5e-86c83d68d82a</td>\n",
       "      <td>Tortoise Media</td>\n",
       "      <td>https://www.tortoisemedia.com/</td>\n",
       "    </tr>\n",
       "    <tr>\n",
       "      <th>6</th>\n",
       "      <td>b4ec1771-2f86-4ebb-a2e5-45839b82b599</td>\n",
       "      <td>Quintas Renewable Energy Solutions</td>\n",
       "      <td>http://www.quintasenergies.com.ng/</td>\n",
       "    </tr>\n",
       "    <tr>\n",
       "      <th>7</th>\n",
       "      <td>3f7115e8-aa41-4f1e-a737-70054a515b4c</td>\n",
       "      <td>G7 litalia</td>\n",
       "      <td>https://www.g7italy.it/en/</td>\n",
       "    </tr>\n",
       "    <tr>\n",
       "      <th>9</th>\n",
       "      <td>109ab236-d853-4dc6-b7da-f03d8cde058c</td>\n",
       "      <td>Life Faerie Glen Hospital</td>\n",
       "      <td>https://www.lifehealthcare.co.za/hospitals/gau...</td>\n",
       "    </tr>\n",
       "    <tr>\n",
       "      <th>10</th>\n",
       "      <td>50909182-769c-48b1-9d7f-c5888156164d</td>\n",
       "      <td>Privy Council Office</td>\n",
       "      <td>https://www.royaloffice.th/about-royaloffice/%...</td>\n",
       "    </tr>\n",
       "    <tr>\n",
       "      <th>11</th>\n",
       "      <td>b2e6b055-1b40-4d98-a29f-a7c4a4710179</td>\n",
       "      <td>Merrimack Valley Planning Commission</td>\n",
       "      <td>https://mvpc.org</td>\n",
       "    </tr>\n",
       "    <tr>\n",
       "      <th>12</th>\n",
       "      <td>9fe4d509-53c6-44e2-b17d-9f9d6a8c6d40</td>\n",
       "      <td>Cleveland-Cuyahoga County Port Authority</td>\n",
       "      <td>https://www.portofcleveland.com</td>\n",
       "    </tr>\n",
       "    <tr>\n",
       "      <th>14</th>\n",
       "      <td>b2f17adc-cd78-458e-b8e4-4e7ae5b656e6</td>\n",
       "      <td>Mayur Resources</td>\n",
       "      <td>www.mayurresources.com</td>\n",
       "    </tr>\n",
       "    <tr>\n",
       "      <th>15</th>\n",
       "      <td>1537220c-bcb9-4d3a-8cb1-6fcd08ecb7ac</td>\n",
       "      <td>Tulane University School of Medicine</td>\n",
       "      <td>https://medicine.tulane.edu/</td>\n",
       "    </tr>\n",
       "    <tr>\n",
       "      <th>16</th>\n",
       "      <td>08135ba5-edf6-41ac-b32f-5bbe61986422</td>\n",
       "      <td>BusinessGreen.com</td>\n",
       "      <td>http://www.businessgreen.com</td>\n",
       "    </tr>\n",
       "    <tr>\n",
       "      <th>17</th>\n",
       "      <td>8d7ad4af-9ae6-4a37-9e79-81df02a099b0</td>\n",
       "      <td>Farm Credit Services of America</td>\n",
       "      <td>https://www.fcsamerica.com</td>\n",
       "    </tr>\n",
       "    <tr>\n",
       "      <th>18</th>\n",
       "      <td>0ca9de62-98c1-4199-856a-04c35e7b1a6c</td>\n",
       "      <td>Milkywire</td>\n",
       "      <td>https://www.milkywire.com/</td>\n",
       "    </tr>\n",
       "    <tr>\n",
       "      <th>19</th>\n",
       "      <td>d3de79b1-907b-4007-99c4-ad7c53244152</td>\n",
       "      <td>Finker-Frenkel Family Foundation</td>\n",
       "      <td>https://www.finkerfrenkel.org/</td>\n",
       "    </tr>\n",
       "    <tr>\n",
       "      <th>20</th>\n",
       "      <td>68379d92-5fae-412f-b858-eb54bd455ed4</td>\n",
       "      <td>Clima Now</td>\n",
       "      <td>http://www.climanow.ch</td>\n",
       "    </tr>\n",
       "    <tr>\n",
       "      <th>21</th>\n",
       "      <td>a04663e5-4c69-4a42-ad83-d9175c3cf179</td>\n",
       "      <td>National Centre of Competence in Research Evol...</td>\n",
       "      <td>https://evolvinglanguage.ch/</td>\n",
       "    </tr>\n",
       "  </tbody>\n",
       "</table>\n",
       "</div>"
      ],
      "text/plain": [
       "                                      id  \\\n",
       "0   17794c4a-0208-4817-b2fe-819297c95d3e   \n",
       "1   62b4b5b9-af62-4e4b-a192-87aedf306476   \n",
       "2   8117cfd3-d47f-471f-b27c-6431d0e37cf2   \n",
       "3   15b3d733-5f9f-4832-93f7-122ca510db83   \n",
       "4   0f3d9a0e-d943-4d0f-844c-2104a62382ac   \n",
       "5   3c311db2-04b7-4701-ba5e-86c83d68d82a   \n",
       "6   b4ec1771-2f86-4ebb-a2e5-45839b82b599   \n",
       "7   3f7115e8-aa41-4f1e-a737-70054a515b4c   \n",
       "9   109ab236-d853-4dc6-b7da-f03d8cde058c   \n",
       "10  50909182-769c-48b1-9d7f-c5888156164d   \n",
       "11  b2e6b055-1b40-4d98-a29f-a7c4a4710179   \n",
       "12  9fe4d509-53c6-44e2-b17d-9f9d6a8c6d40   \n",
       "14  b2f17adc-cd78-458e-b8e4-4e7ae5b656e6   \n",
       "15  1537220c-bcb9-4d3a-8cb1-6fcd08ecb7ac   \n",
       "16  08135ba5-edf6-41ac-b32f-5bbe61986422   \n",
       "17  8d7ad4af-9ae6-4a37-9e79-81df02a099b0   \n",
       "18  0ca9de62-98c1-4199-856a-04c35e7b1a6c   \n",
       "19  d3de79b1-907b-4007-99c4-ad7c53244152   \n",
       "20  68379d92-5fae-412f-b858-eb54bd455ed4   \n",
       "21  a04663e5-4c69-4a42-ad83-d9175c3cf179   \n",
       "\n",
       "                                                 name  \\\n",
       "0                                      Sound Ventures   \n",
       "1                                      Instituto Kabu   \n",
       "2                                     Taihe Institute   \n",
       "3                                         Oceaneye.ch   \n",
       "4                          Centro de Estudos Rioterra   \n",
       "5                                      Tortoise Media   \n",
       "6                  Quintas Renewable Energy Solutions   \n",
       "7                                          G7 litalia   \n",
       "9                           Life Faerie Glen Hospital   \n",
       "10                               Privy Council Office   \n",
       "11               Merrimack Valley Planning Commission   \n",
       "12           Cleveland-Cuyahoga County Port Authority   \n",
       "14                                    Mayur Resources   \n",
       "15               Tulane University School of Medicine   \n",
       "16                                  BusinessGreen.com   \n",
       "17                    Farm Credit Services of America   \n",
       "18                                          Milkywire   \n",
       "19                   Finker-Frenkel Family Foundation   \n",
       "20                                          Clima Now   \n",
       "21  National Centre of Competence in Research Evol...   \n",
       "\n",
       "                                                  url  \n",
       "0                           https://soundventures.com  \n",
       "1                            https://www.kabu.org.br/  \n",
       "2                      http://www.taiheglobal.org/en/  \n",
       "3                              http://www.oceaneye.ch  \n",
       "4                               https://rioterra.org/  \n",
       "5                      https://www.tortoisemedia.com/  \n",
       "6                  http://www.quintasenergies.com.ng/  \n",
       "7                          https://www.g7italy.it/en/  \n",
       "9   https://www.lifehealthcare.co.za/hospitals/gau...  \n",
       "10  https://www.royaloffice.th/about-royaloffice/%...  \n",
       "11                                   https://mvpc.org  \n",
       "12                    https://www.portofcleveland.com  \n",
       "14                             www.mayurresources.com  \n",
       "15                       https://medicine.tulane.edu/  \n",
       "16                       http://www.businessgreen.com  \n",
       "17                         https://www.fcsamerica.com  \n",
       "18                         https://www.milkywire.com/  \n",
       "19                     https://www.finkerfrenkel.org/  \n",
       "20                             http://www.climanow.ch  \n",
       "21                       https://evolvinglanguage.ch/  "
      ]
     },
     "execution_count": 21,
     "metadata": {},
     "output_type": "execute_result"
    }
   ],
   "source": [
    "atium_df.head(20)"
   ]
  },
  {
   "cell_type": "code",
   "execution_count": 22,
   "metadata": {},
   "outputs": [
    {
     "name": "stderr",
     "output_type": "stream",
     "text": [
      "/var/folders/zr/fksnltgn6b5f322_h382g5yh0000gp/T/ipykernel_79965/4156729947.py:2: SettingWithCopyWarning: \n",
      "A value is trying to be set on a copy of a slice from a DataFrame.\n",
      "Try using .loc[row_indexer,col_indexer] = value instead\n",
      "\n",
      "See the caveats in the documentation: https://pandas.pydata.org/pandas-docs/stable/user_guide/indexing.html#returning-a-view-versus-a-copy\n",
      "  atium_df['normalized_website'] = atium_df['url'].apply(normalize_url)\n"
     ]
    }
   ],
   "source": [
    "# Step 2: Normalize URLs in atium_df\n",
    "atium_df['normalized_website'] = atium_df['url'].apply(normalize_url)\n"
   ]
  },
  {
   "cell_type": "code",
   "execution_count": 23,
   "metadata": {},
   "outputs": [
    {
     "data": {
      "text/html": [
       "<div>\n",
       "<style scoped>\n",
       "    .dataframe tbody tr th:only-of-type {\n",
       "        vertical-align: middle;\n",
       "    }\n",
       "\n",
       "    .dataframe tbody tr th {\n",
       "        vertical-align: top;\n",
       "    }\n",
       "\n",
       "    .dataframe thead th {\n",
       "        text-align: right;\n",
       "    }\n",
       "</style>\n",
       "<table border=\"1\" class=\"dataframe\">\n",
       "  <thead>\n",
       "    <tr style=\"text-align: right;\">\n",
       "      <th></th>\n",
       "      <th>id</th>\n",
       "      <th>name</th>\n",
       "      <th>url</th>\n",
       "      <th>normalized_website</th>\n",
       "    </tr>\n",
       "  </thead>\n",
       "  <tbody>\n",
       "    <tr>\n",
       "      <th>0</th>\n",
       "      <td>17794c4a-0208-4817-b2fe-819297c95d3e</td>\n",
       "      <td>Sound Ventures</td>\n",
       "      <td>https://soundventures.com</td>\n",
       "      <td>soundventures.com</td>\n",
       "    </tr>\n",
       "    <tr>\n",
       "      <th>1</th>\n",
       "      <td>62b4b5b9-af62-4e4b-a192-87aedf306476</td>\n",
       "      <td>Instituto Kabu</td>\n",
       "      <td>https://www.kabu.org.br/</td>\n",
       "      <td>kabu.org.br</td>\n",
       "    </tr>\n",
       "    <tr>\n",
       "      <th>2</th>\n",
       "      <td>8117cfd3-d47f-471f-b27c-6431d0e37cf2</td>\n",
       "      <td>Taihe Institute</td>\n",
       "      <td>http://www.taiheglobal.org/en/</td>\n",
       "      <td>taiheglobal.org</td>\n",
       "    </tr>\n",
       "    <tr>\n",
       "      <th>3</th>\n",
       "      <td>15b3d733-5f9f-4832-93f7-122ca510db83</td>\n",
       "      <td>Oceaneye.ch</td>\n",
       "      <td>http://www.oceaneye.ch</td>\n",
       "      <td>oceaneye.ch</td>\n",
       "    </tr>\n",
       "    <tr>\n",
       "      <th>4</th>\n",
       "      <td>0f3d9a0e-d943-4d0f-844c-2104a62382ac</td>\n",
       "      <td>Centro de Estudos Rioterra</td>\n",
       "      <td>https://rioterra.org/</td>\n",
       "      <td>rioterra.org</td>\n",
       "    </tr>\n",
       "  </tbody>\n",
       "</table>\n",
       "</div>"
      ],
      "text/plain": [
       "                                     id                        name  \\\n",
       "0  17794c4a-0208-4817-b2fe-819297c95d3e              Sound Ventures   \n",
       "1  62b4b5b9-af62-4e4b-a192-87aedf306476              Instituto Kabu   \n",
       "2  8117cfd3-d47f-471f-b27c-6431d0e37cf2             Taihe Institute   \n",
       "3  15b3d733-5f9f-4832-93f7-122ca510db83                 Oceaneye.ch   \n",
       "4  0f3d9a0e-d943-4d0f-844c-2104a62382ac  Centro de Estudos Rioterra   \n",
       "\n",
       "                              url normalized_website  \n",
       "0       https://soundventures.com  soundventures.com  \n",
       "1        https://www.kabu.org.br/        kabu.org.br  \n",
       "2  http://www.taiheglobal.org/en/    taiheglobal.org  \n",
       "3          http://www.oceaneye.ch        oceaneye.ch  \n",
       "4           https://rioterra.org/       rioterra.org  "
      ]
     },
     "execution_count": 23,
     "metadata": {},
     "output_type": "execute_result"
    }
   ],
   "source": [
    "atium_df.head()"
   ]
  },
  {
   "cell_type": "code",
   "execution_count": 24,
   "metadata": {},
   "outputs": [
    {
     "data": {
      "text/html": [
       "<div>\n",
       "<style scoped>\n",
       "    .dataframe tbody tr th:only-of-type {\n",
       "        vertical-align: middle;\n",
       "    }\n",
       "\n",
       "    .dataframe tbody tr th {\n",
       "        vertical-align: top;\n",
       "    }\n",
       "\n",
       "    .dataframe thead th {\n",
       "        text-align: right;\n",
       "    }\n",
       "</style>\n",
       "<table border=\"1\" class=\"dataframe\">\n",
       "  <thead>\n",
       "    <tr style=\"text-align: right;\">\n",
       "      <th></th>\n",
       "      <th>id</th>\n",
       "      <th>website</th>\n",
       "      <th>name</th>\n",
       "      <th>founded</th>\n",
       "      <th>size</th>\n",
       "      <th>locality</th>\n",
       "      <th>region</th>\n",
       "      <th>country</th>\n",
       "      <th>industry</th>\n",
       "      <th>linkedin_url</th>\n",
       "    </tr>\n",
       "  </thead>\n",
       "  <tbody>\n",
       "    <tr>\n",
       "      <th>0</th>\n",
       "      <td>CuyWJQh9OJallb2JWzbvswRxyU6h</td>\n",
       "      <td>guincho-almeida-lp.negocio.site</td>\n",
       "      <td>guincho almeida lp</td>\n",
       "      <td>NaN</td>\n",
       "      <td>1-10</td>\n",
       "      <td>None</td>\n",
       "      <td>None</td>\n",
       "      <td>brazil</td>\n",
       "      <td>individual &amp; family services</td>\n",
       "      <td>linkedin.com/company/guincho-almeida-lp</td>\n",
       "    </tr>\n",
       "    <tr>\n",
       "      <th>1</th>\n",
       "      <td>DSvFD9Lb6FnKsgJXf2DIYQ1IwDNx</td>\n",
       "      <td>csiavocats.com</td>\n",
       "      <td>cabinet d'avocats saïd ibrahim</td>\n",
       "      <td>2000.0</td>\n",
       "      <td>1-10</td>\n",
       "      <td>None</td>\n",
       "      <td>None</td>\n",
       "      <td>comoros</td>\n",
       "      <td>law practice</td>\n",
       "      <td>linkedin.com/company/csiavocats</td>\n",
       "    </tr>\n",
       "    <tr>\n",
       "      <th>2</th>\n",
       "      <td>pBAJmryGZ0tcDsG13jT8RQi1GzFM</td>\n",
       "      <td>keychangenow.com</td>\n",
       "      <td>kci (key change institute)</td>\n",
       "      <td>2017.0</td>\n",
       "      <td>1-10</td>\n",
       "      <td>san diego</td>\n",
       "      <td>california</td>\n",
       "      <td>united states</td>\n",
       "      <td>management consulting</td>\n",
       "      <td>linkedin.com/company/key-change-insitute</td>\n",
       "    </tr>\n",
       "    <tr>\n",
       "      <th>3</th>\n",
       "      <td>WmmByBqKxmgDSaWLXp0vJgJljsya</td>\n",
       "      <td>swimmingmoscow.com</td>\n",
       "      <td>swimming moscow</td>\n",
       "      <td>2017.0</td>\n",
       "      <td>1-10</td>\n",
       "      <td>moskva</td>\n",
       "      <td>novosibirsk</td>\n",
       "      <td>russia</td>\n",
       "      <td>sports</td>\n",
       "      <td>linkedin.com/company/swimming-moscow</td>\n",
       "    </tr>\n",
       "    <tr>\n",
       "      <th>4</th>\n",
       "      <td>Uf09EMyMNrjKFo4lV1bUSQSYnNY3</td>\n",
       "      <td>herbzy.space</td>\n",
       "      <td>herbzy</td>\n",
       "      <td>2020.0</td>\n",
       "      <td>1-10</td>\n",
       "      <td>None</td>\n",
       "      <td>None</td>\n",
       "      <td>poland</td>\n",
       "      <td>food &amp; beverages</td>\n",
       "      <td>linkedin.com/company/herbzy</td>\n",
       "    </tr>\n",
       "  </tbody>\n",
       "</table>\n",
       "</div>"
      ],
      "text/plain": [
       "                             id                          website  \\\n",
       "0  CuyWJQh9OJallb2JWzbvswRxyU6h  guincho-almeida-lp.negocio.site   \n",
       "1  DSvFD9Lb6FnKsgJXf2DIYQ1IwDNx                   csiavocats.com   \n",
       "2  pBAJmryGZ0tcDsG13jT8RQi1GzFM                 keychangenow.com   \n",
       "3  WmmByBqKxmgDSaWLXp0vJgJljsya               swimmingmoscow.com   \n",
       "4  Uf09EMyMNrjKFo4lV1bUSQSYnNY3                     herbzy.space   \n",
       "\n",
       "                             name  founded  size   locality       region  \\\n",
       "0              guincho almeida lp      NaN  1-10       None         None   \n",
       "1  cabinet d'avocats saïd ibrahim   2000.0  1-10       None         None   \n",
       "2      kci (key change institute)   2017.0  1-10  san diego   california   \n",
       "3                 swimming moscow   2017.0  1-10     moskva  novosibirsk   \n",
       "4                          herbzy   2020.0  1-10       None         None   \n",
       "\n",
       "         country                      industry  \\\n",
       "0         brazil  individual & family services   \n",
       "1        comoros                  law practice   \n",
       "2  united states         management consulting   \n",
       "3         russia                        sports   \n",
       "4         poland              food & beverages   \n",
       "\n",
       "                               linkedin_url  \n",
       "0   linkedin.com/company/guincho-almeida-lp  \n",
       "1           linkedin.com/company/csiavocats  \n",
       "2  linkedin.com/company/key-change-insitute  \n",
       "3      linkedin.com/company/swimming-moscow  \n",
       "4               linkedin.com/company/herbzy  "
      ]
     },
     "execution_count": 24,
     "metadata": {},
     "output_type": "execute_result"
    }
   ],
   "source": [
    "df_in_raw.head()"
   ]
  },
  {
   "cell_type": "code",
   "execution_count": 26,
   "metadata": {},
   "outputs": [],
   "source": [
    "# Step 3: Filter df_in_raw to include only relevant rows\n",
    "relevant_websites = set(atium_df['normalized_website'])\n",
    "df_in_raw_filtered = df_in_raw[df_in_raw['website'].isin(relevant_websites)]"
   ]
  },
  {
   "cell_type": "code",
   "execution_count": 27,
   "metadata": {},
   "outputs": [],
   "source": [
    "# Step 4: Create a dictionary mapping normalized_website to linkedin_url, region, country, and industry\n",
    "website_to_data = df_in_raw_filtered.set_index('website')[['linkedin_url', 'region', 'country', 'industry']].to_dict(orient='index')"
   ]
  },
  {
   "cell_type": "code",
   "execution_count": 28,
   "metadata": {},
   "outputs": [],
   "source": [
    "# Step 5: Enrich atiu_df with linkedin_url, region, country, and industry\n",
    "atium_df['linkedin_url'] = atium_df['normalized_website'].map(lambda x: website_to_data.get(x, {}).get('linkedin_url'))\n",
    "atium_df['region'] = atium_df['normalized_website'].map(lambda x: website_to_data.get(x, {}).get('region'))\n",
    "atium_df['country'] = atium_df['normalized_website'].map(lambda x: website_to_data.get(x, {}).get('country'))\n",
    "atium_df['industry'] = atium_df['normalized_website'].map(lambda x: website_to_data.get(x, {}).get('industry'))"
   ]
  },
  {
   "cell_type": "code",
   "execution_count": 29,
   "metadata": {},
   "outputs": [
    {
     "data": {
      "text/html": [
       "<div>\n",
       "<style scoped>\n",
       "    .dataframe tbody tr th:only-of-type {\n",
       "        vertical-align: middle;\n",
       "    }\n",
       "\n",
       "    .dataframe tbody tr th {\n",
       "        vertical-align: top;\n",
       "    }\n",
       "\n",
       "    .dataframe thead th {\n",
       "        text-align: right;\n",
       "    }\n",
       "</style>\n",
       "<table border=\"1\" class=\"dataframe\">\n",
       "  <thead>\n",
       "    <tr style=\"text-align: right;\">\n",
       "      <th></th>\n",
       "      <th>id</th>\n",
       "      <th>name</th>\n",
       "      <th>url</th>\n",
       "      <th>normalized_website</th>\n",
       "      <th>linkedin_url</th>\n",
       "      <th>region</th>\n",
       "      <th>country</th>\n",
       "      <th>industry</th>\n",
       "    </tr>\n",
       "  </thead>\n",
       "  <tbody>\n",
       "    <tr>\n",
       "      <th>0</th>\n",
       "      <td>17794c4a-0208-4817-b2fe-819297c95d3e</td>\n",
       "      <td>Sound Ventures</td>\n",
       "      <td>https://soundventures.com</td>\n",
       "      <td>soundventures.com</td>\n",
       "      <td>linkedin.com/company/soundwavesholdings</td>\n",
       "      <td>california</td>\n",
       "      <td>united states</td>\n",
       "      <td>venture capital &amp; private equity</td>\n",
       "    </tr>\n",
       "    <tr>\n",
       "      <th>1</th>\n",
       "      <td>62b4b5b9-af62-4e4b-a192-87aedf306476</td>\n",
       "      <td>Instituto Kabu</td>\n",
       "      <td>https://www.kabu.org.br/</td>\n",
       "      <td>kabu.org.br</td>\n",
       "      <td>linkedin.com/company/instituto-kabu</td>\n",
       "      <td>para</td>\n",
       "      <td>brazil</td>\n",
       "      <td>non-profit organization management</td>\n",
       "    </tr>\n",
       "    <tr>\n",
       "      <th>2</th>\n",
       "      <td>8117cfd3-d47f-471f-b27c-6431d0e37cf2</td>\n",
       "      <td>Taihe Institute</td>\n",
       "      <td>http://www.taiheglobal.org/en/</td>\n",
       "      <td>taiheglobal.org</td>\n",
       "      <td>linkedin.com/company/taiheglobalinstitute</td>\n",
       "      <td>beijing</td>\n",
       "      <td>china</td>\n",
       "      <td>think tanks</td>\n",
       "    </tr>\n",
       "    <tr>\n",
       "      <th>3</th>\n",
       "      <td>15b3d733-5f9f-4832-93f7-122ca510db83</td>\n",
       "      <td>Oceaneye.ch</td>\n",
       "      <td>http://www.oceaneye.ch</td>\n",
       "      <td>oceaneye.ch</td>\n",
       "      <td>linkedin.com/company/oceaneye-ch</td>\n",
       "      <td>geneva</td>\n",
       "      <td>switzerland</td>\n",
       "      <td>research</td>\n",
       "    </tr>\n",
       "    <tr>\n",
       "      <th>4</th>\n",
       "      <td>0f3d9a0e-d943-4d0f-844c-2104a62382ac</td>\n",
       "      <td>Centro de Estudos Rioterra</td>\n",
       "      <td>https://rioterra.org/</td>\n",
       "      <td>rioterra.org</td>\n",
       "      <td>None</td>\n",
       "      <td>None</td>\n",
       "      <td>None</td>\n",
       "      <td>None</td>\n",
       "    </tr>\n",
       "  </tbody>\n",
       "</table>\n",
       "</div>"
      ],
      "text/plain": [
       "                                     id                        name  \\\n",
       "0  17794c4a-0208-4817-b2fe-819297c95d3e              Sound Ventures   \n",
       "1  62b4b5b9-af62-4e4b-a192-87aedf306476              Instituto Kabu   \n",
       "2  8117cfd3-d47f-471f-b27c-6431d0e37cf2             Taihe Institute   \n",
       "3  15b3d733-5f9f-4832-93f7-122ca510db83                 Oceaneye.ch   \n",
       "4  0f3d9a0e-d943-4d0f-844c-2104a62382ac  Centro de Estudos Rioterra   \n",
       "\n",
       "                              url normalized_website  \\\n",
       "0       https://soundventures.com  soundventures.com   \n",
       "1        https://www.kabu.org.br/        kabu.org.br   \n",
       "2  http://www.taiheglobal.org/en/    taiheglobal.org   \n",
       "3          http://www.oceaneye.ch        oceaneye.ch   \n",
       "4           https://rioterra.org/       rioterra.org   \n",
       "\n",
       "                                linkedin_url      region        country  \\\n",
       "0    linkedin.com/company/soundwavesholdings  california  united states   \n",
       "1        linkedin.com/company/instituto-kabu        para         brazil   \n",
       "2  linkedin.com/company/taiheglobalinstitute     beijing          china   \n",
       "3           linkedin.com/company/oceaneye-ch      geneva    switzerland   \n",
       "4                                       None        None           None   \n",
       "\n",
       "                             industry  \n",
       "0    venture capital & private equity  \n",
       "1  non-profit organization management  \n",
       "2                         think tanks  \n",
       "3                            research  \n",
       "4                                None  "
      ]
     },
     "execution_count": 29,
     "metadata": {},
     "output_type": "execute_result"
    }
   ],
   "source": [
    "atium_df.head()"
   ]
  },
  {
   "cell_type": "code",
   "execution_count": 30,
   "metadata": {},
   "outputs": [],
   "source": [
    "# Step 6: Drop rows where linkedin_url is missing (if inner join behavior is desired)\n",
    "atium_df = atium_df.dropna(subset=['linkedin_url'])"
   ]
  },
  {
   "cell_type": "code",
   "execution_count": 31,
   "metadata": {},
   "outputs": [
    {
     "data": {
      "text/plain": [
       "14773"
      ]
     },
     "execution_count": 31,
     "metadata": {},
     "output_type": "execute_result"
    }
   ],
   "source": [
    "len(atium_df)"
   ]
  },
  {
   "cell_type": "code",
   "execution_count": 32,
   "metadata": {},
   "outputs": [],
   "source": [
    "# Save the enriched dataframe\n",
    "csv_out_file_path = wip_dir / 'enriched_companies.csv'\n",
    "atium_df.to_csv(csv_out_file_path, index=False)"
   ]
  },
  {
   "cell_type": "code",
   "execution_count": null,
   "metadata": {},
   "outputs": [],
   "source": []
  }
 ],
 "metadata": {
  "kernelspec": {
   "display_name": "Python 3",
   "language": "python",
   "name": "python3"
  },
  "language_info": {
   "codemirror_mode": {
    "name": "ipython",
    "version": 3
   },
   "file_extension": ".py",
   "mimetype": "text/x-python",
   "name": "python",
   "nbconvert_exporter": "python",
   "pygments_lexer": "ipython3",
   "version": "3.11.4"
  }
 },
 "nbformat": 4,
 "nbformat_minor": 2
}
