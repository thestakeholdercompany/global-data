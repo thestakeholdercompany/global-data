{
 "cells": [
  {
   "cell_type": "code",
   "execution_count": 26,
   "metadata": {},
   "outputs": [],
   "source": [
    "import requests\n",
    "import pandas as pd\n",
    "import os\n",
    "import time\n",
    "\n",
    "def preprocess_name(name):\n",
    "    # Trim leading and trailing whitespaces and remove surrounding double quotes if present\n",
    "    processed_name = name.strip().strip('\"')\n",
    "    # Capitalize the first letter of each word and convert the rest to lowercase\n",
    "    processed_name = ' '.join(word.capitalize() for word in processed_name.split())\n",
    "    return processed_name\n",
    "\n",
    "def generate_name_variations(name):\n",
    "    parts = name.split()\n",
    "    variations = []\n",
    "\n",
    "    # Generate combinations by progressively removing the last part of the name\n",
    "    for i in range(len(parts)):\n",
    "        variations.append(' '.join(parts[:len(parts) - i]))\n",
    "    \n",
    "    return variations\n",
    "\n",
    "def get_wikidata_url(name, retry=0):\n",
    "    # Preprocess the name\n",
    "    processed_name = preprocess_name(name)\n",
    "    name_variations = generate_name_variations(processed_name)\n",
    "    url = 'https://query.wikidata.org/sparql'\n",
    "    headers = {'User-Agent': 'Mozilla/5.0', 'Accept': 'application/json'}\n",
    "    \n",
    "    for variation in name_variations:\n",
    "        query = f'''\n",
    "            SELECT ?item WHERE {{\n",
    "            {{\n",
    "                ?item rdfs:label \"{processed_name}\"@en.\n",
    "            }} UNION {{\n",
    "                ?item skos:altLabel \"{processed_name}\"@en.\n",
    "            }}\n",
    "            FILTER EXISTS {{ ?item wdt:P31 wd:Q5. }}  # Ensure the item is an instance of human (Q5)\n",
    "            OPTIONAL {{ ?item wdt:P106 wd:Q82955. BIND(true AS ?isPolitician) }}  # Check if a politician\n",
    "            FILTER NOT EXISTS {{ ?item wdt:P570 ?deathDate. }}  # Exclude deceased individuals\n",
    "            FILTER NOT EXISTS {{ ?item wdt:P106 wd:Q937857. }}  # Exclude association football players\n",
    "            FILTER NOT EXISTS {{ ?item wdt:P106 wd:Q177220. }}  # Exclude singers\n",
    "            FILTER NOT EXISTS {{ ?item wdt:P106 wd:Q2066131. }}  # Exclude athletes\n",
    "            FILTER NOT EXISTS {{ ?item wdt:P106 wd:Q214917. }}  # Exclude playwrights\n",
    "            FILTER NOT EXISTS {{ ?item wdt:P106 wd:Q201788. }}  # Exclude historians\n",
    "            MINUS {{ ?item wdt:P106/wdt:P279* wd:Q2066131. }}  # Exclude if occupation is a subclass of \"sportsperson\"\n",
    "            MINUS {{ ?item wdt:P106/wdt:P279* wd:Q349. }}     # Exclude if occupation is directly associated with \"sports\"\n",
    "            BIND(COALESCE(?isPolitician, false) AS ?isPolitician)\n",
    "            }} ORDER BY DESC(?isPolitician) LIMIT 1 \n",
    "        '''\n",
    "        \n",
    "        try:\n",
    "            response = requests.get(url, headers=headers, params={'query': query, 'format': 'json'}, timeout=10)\n",
    "            response.raise_for_status()  # Raises a HTTPError if the status is 4xx, 5xx\n",
    "            data = response.json()\n",
    "            if data['results']['bindings']:\n",
    "                entity_url = data['results']['bindings'][0]['item']['value']\n",
    "                wiki_url = entity_url.replace('http://www.wikidata.org/entity/', 'https://www.wikidata.org/wiki/')\n",
    "                return wiki_url\n",
    "        except requests.exceptions.HTTPError as e:\n",
    "            if response.status_code == 429 or 500 <= response.status_code < 600:\n",
    "                if retry < 3:  # Set a maximum number of retries\n",
    "                    time.sleep(10 * (retry + 1))  # Exponential back-off\n",
    "                    return get_wikidata_url(name, retry + 1)\n",
    "                else:\n",
    "                    return \"API limit reached, stopped retrying.\"\n",
    "        except requests.exceptions.RequestException as e:\n",
    "            # For other types of exceptions like timeout, etc.\n",
    "            return \"Request failed\"\n",
    "    \n",
    "    return \"Not found\"\n",
    "\n",
    "def process_names_in_batches(input_file, output_file):\n",
    "    # Adjust chunksize to the desired batch size\n",
    "    chunksize = 100\n",
    "    # Check if the output file already exists and has content\n",
    "    file_exists = os.path.isfile(output_file) and os.path.getsize(output_file) > 0\n",
    "    \n",
    "    for chunk in pd.read_csv(input_file, chunksize=chunksize):\n",
    "        chunk['wikidata_URL'] = chunk['name'].apply(get_wikidata_url)\n",
    "        # Write without header if file already exists and has content; otherwise, write with header\n",
    "        chunk.to_csv(output_file, mode='a', index=False, header=not file_exists)\n",
    "        # Ensure header is not written in subsequent iterations\n",
    "        file_exists = True\n"
   ]
  },
  {
   "cell_type": "code",
   "execution_count": 27,
   "metadata": {},
   "outputs": [
    {
     "data": {
      "text/plain": [
       "'https://www.wikidata.org/wiki/Q20535883'"
      ]
     },
     "execution_count": 27,
     "metadata": {},
     "output_type": "execute_result"
    }
   ],
   "source": [
    "# for testing\n",
    "get_wikidata_url(\"Nicolás GONZÁLEZ CASARES\")"
   ]
  },
  {
   "cell_type": "code",
   "execution_count": 28,
   "metadata": {},
   "outputs": [
    {
     "name": "stdout",
     "output_type": "stream",
     "text": [
      "Processing completed.\n"
     ]
    }
   ],
   "source": [
    "# Specify your input and output file paths\n",
    "input_file_path = '/Users/mel/Downloads/meps.csv'\n",
    "output_file_path = '/Users/mel/Downloads/meps_annotated.csv'\n",
    "\n",
    "# Create the output file and write headers\n",
    "# pd.DataFrame(columns=['name', 'wikidata_URL']).to_csv(output_file_path, index=False)\n",
    "\n",
    "# Process names in batches\n",
    "process_names_in_batches(input_file_path, output_file_path)\n",
    "\n",
    "print(\"Processing completed.\")"
   ]
  }
 ],
 "metadata": {
  "kernelspec": {
   "display_name": "Python 3",
   "language": "python",
   "name": "python3"
  },
  "language_info": {
   "codemirror_mode": {
    "name": "ipython",
    "version": 3
   },
   "file_extension": ".py",
   "mimetype": "text/x-python",
   "name": "python",
   "nbconvert_exporter": "python",
   "pygments_lexer": "ipython3",
   "version": "3.11.4"
  }
 },
 "nbformat": 4,
 "nbformat_minor": 2
}
